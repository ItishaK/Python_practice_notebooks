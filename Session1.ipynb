{
 "cells": [
  {
   "cell_type": "code",
   "execution_count": null,
   "id": "8dee2742",
   "metadata": {},
   "outputs": [],
   "source": [
    "# Some basic string handling functions along with Lists"
   ]
  },
  {
   "cell_type": "code",
   "execution_count": 10,
   "id": "3e359262",
   "metadata": {},
   "outputs": [],
   "source": [
    "str1 = \" hello world \""
   ]
  },
  {
   "cell_type": "code",
   "execution_count": 8,
   "id": "f6279a82",
   "metadata": {},
   "outputs": [
    {
     "name": "stdout",
     "output_type": "stream",
     "text": [
      "['hello', 'world']\n"
     ]
    }
   ],
   "source": [
    "print(str1.split())"
   ]
  },
  {
   "cell_type": "code",
   "execution_count": 16,
   "id": "b0aa1f6c",
   "metadata": {},
   "outputs": [
    {
     "name": "stdout",
     "output_type": "stream",
     "text": [
      "list1 before remove [' ', 'h', 'e', 'l', 'l', 'o', ' ', 'w', 'o', 'r', 'l', 'd', ' ']\n",
      "list1 after remove without loop ['h', 'e', 'l', 'l', 'o', ' ', 'w', 'o', 'r', 'l', 'd', ' ']\n"
     ]
    }
   ],
   "source": [
    "#Unpacking\n",
    "list1 = [*str1]\n",
    "print(f'list1 before remove {list1}')\n",
    "# Remove a specific element from the list\n",
    "list1.remove(' ')\n",
    "print(f'list1 after remove without loop {list1}')"
   ]
  },
  {
   "cell_type": "code",
   "execution_count": 17,
   "id": "7fe88afd",
   "metadata": {},
   "outputs": [
    {
     "name": "stdout",
     "output_type": "stream",
     "text": [
      "Updated list1 is: ['h', 'e', 'l', 'l', 'o', 'w', 'o', 'r', 'l', 'd']\n"
     ]
    }
   ],
   "source": [
    "# Remove a specific element from the list\n",
    "for item in list1:\n",
    "    if item == \" \":\n",
    "        list1.remove(' ')\n",
    "print(f'Updated list1 is: {list1}')"
   ]
  },
  {
   "cell_type": "code",
   "execution_count": 21,
   "id": "a5686188",
   "metadata": {},
   "outputs": [
    {
     "name": "stdout",
     "output_type": "stream",
     "text": [
      "count is: 0\n"
     ]
    }
   ],
   "source": [
    "# Checking frequency in a list\n",
    "count = list1.count('g')\n",
    "print(f'count is: {count}')"
   ]
  },
  {
   "cell_type": "code",
   "execution_count": 22,
   "id": "9fdece47",
   "metadata": {},
   "outputs": [
    {
     "name": "stdout",
     "output_type": "stream",
     "text": [
      "<class 'str'>\n",
      "<class 'list'>\n"
     ]
    }
   ],
   "source": [
    "# Knowing about types and isinstance(value,datatype)\n",
    "\n",
    "print(type(str1))\n",
    "print(type(list1))"
   ]
  },
  {
   "cell_type": "code",
   "execution_count": 25,
   "id": "ca6f1808",
   "metadata": {},
   "outputs": [
    {
     "name": "stdout",
     "output_type": "stream",
     "text": [
      "False\n"
     ]
    }
   ],
   "source": [
    "print(isinstance(list1, int))"
   ]
  },
  {
   "cell_type": "code",
   "execution_count": null,
   "id": "403960c8",
   "metadata": {},
   "outputs": [],
   "source": [
    "# Use of 'or, and' operators "
   ]
  },
  {
   "cell_type": "code",
   "execution_count": 26,
   "id": "253e0737",
   "metadata": {},
   "outputs": [
    {
     "name": "stdout",
     "output_type": "stream",
     "text": [
      "['h', 'e', 'l', 'l', 'o', 'w', 'o', 'r', 'l', 'd']\n"
     ]
    }
   ],
   "source": [
    "print(list1)"
   ]
  },
  {
   "cell_type": "code",
   "execution_count": 31,
   "id": "5c9b6c87",
   "metadata": {},
   "outputs": [
    {
     "name": "stdout",
     "output_type": "stream",
     "text": [
      "given string is not found\n"
     ]
    }
   ],
   "source": [
    "flag = False\n",
    "\n",
    "for item in list1:\n",
    "    if item == 'h' and item == 'y':\n",
    "        flag = True\n",
    "        break\n",
    "\n",
    "if flag == False:\n",
    "    print('given string is not found')\n",
    "else:\n",
    "    print('given string is found')\n",
    "        \n",
    "        \n",
    "#         print('given string is found')\n",
    "    \n",
    "#         print('given string is not found')"
   ]
  },
  {
   "cell_type": "code",
   "execution_count": 34,
   "id": "75d41c33",
   "metadata": {},
   "outputs": [
    {
     "name": "stdout",
     "output_type": "stream",
     "text": [
      " hello world \n",
      "list_1 is ['hello', 'world']\n",
      "<class 'list'>\n"
     ]
    }
   ],
   "source": [
    "# Different ways to convert a string to a list\n",
    "\n",
    "# 1st Method : helps in splitting words separated by a delimeter for example: 'space','comma'\n",
    "print(str1)\n",
    "list_1 = str1.split()\n",
    "print(f'list_1 is {list_1}')\n",
    "print(type(list1))"
   ]
  },
  {
   "cell_type": "code",
   "execution_count": 44,
   "id": "c0dbac8d",
   "metadata": {},
   "outputs": [
    {
     "name": "stdout",
     "output_type": "stream",
     "text": [
      "list_2 is [' ', 'h', 'e', 'l', 'l', 'o', ' ', 'w', 'o', 'r', 'l', 'd', ' ']\n"
     ]
    }
   ],
   "source": [
    "#2nd Method : Unpacking a string\n",
    "list_2 = [*str1]\n",
    "print(f'list_2 is {list_2}')"
   ]
  },
  {
   "cell_type": "code",
   "execution_count": 36,
   "id": "4d1f8e60",
   "metadata": {},
   "outputs": [
    {
     "name": "stdout",
     "output_type": "stream",
     "text": [
      "list_3 is: [' ', 'h', 'e', 'l', 'l', 'o', ' ', 'w', 'o', 'r', 'l', 'd', ' ']\n"
     ]
    }
   ],
   "source": [
    "#3rd Method : Using for loop\n",
    "list_3 = []\n",
    "for item in str1:\n",
    "    list_3.append(item)\n",
    "\n",
    "print(f'list_3 is: {list_3}')"
   ]
  },
  {
   "cell_type": "code",
   "execution_count": 37,
   "id": "02440ae0",
   "metadata": {},
   "outputs": [
    {
     "name": "stdout",
     "output_type": "stream",
     "text": [
      "list_4 is [' ', 'h', 'e', 'l', 'l', 'o', ' ', 'w', 'o', 'r', 'l', 'd', ' ']\n"
     ]
    }
   ],
   "source": [
    "#4th Method : typecasting\n",
    "list_4 = list(str1)\n",
    "print(f'list_4 is {list_4}')"
   ]
  },
  {
   "cell_type": "code",
   "execution_count": 38,
   "id": "7ddc8439",
   "metadata": {},
   "outputs": [
    {
     "name": "stdout",
     "output_type": "stream",
     "text": [
      "[2, 6, 10, 12]\n"
     ]
    }
   ],
   "source": [
    "# List Comprehension\n",
    "list_5 = [1,3,5,6]\n",
    "result = [item*2 for item in list_5]\n",
    "print(result)"
   ]
  },
  {
   "cell_type": "code",
   "execution_count": 42,
   "id": "6dabefa3",
   "metadata": {},
   "outputs": [
    {
     "name": "stdout",
     "output_type": "stream",
     "text": [
      "[1, 3, 5]\n"
     ]
    }
   ],
   "source": [
    "# item%2 != 0 (Checks for odd elements)\n",
    "# item%2 == 0 (Checks for even elements)\n",
    "\n",
    "result = [item for item in list_5 if item%2 != 0]\n",
    "print(result)"
   ]
  },
  {
   "cell_type": "code",
   "execution_count": 43,
   "id": "c5cb0bd2",
   "metadata": {},
   "outputs": [
    {
     "name": "stdout",
     "output_type": "stream",
     "text": [
      "4\n"
     ]
    }
   ],
   "source": [
    "# A simple Lambda function:\n",
    "# lambda arguments : expression\n",
    "output = lambda x : x+2\n",
    "print(output(2))"
   ]
  },
  {
   "cell_type": "code",
   "execution_count": null,
   "id": "42ec200c",
   "metadata": {},
   "outputs": [],
   "source": [
    "# Cost effective way to remove the element from a list using lambda and filter function"
   ]
  },
  {
   "cell_type": "code",
   "execution_count": 46,
   "id": "6d9aca6a",
   "metadata": {},
   "outputs": [
    {
     "name": "stdout",
     "output_type": "stream",
     "text": [
      "['h', 'e', 'l', 'l', 'o', 'w', 'o', 'r', 'l', 'd']\n"
     ]
    }
   ],
   "source": [
    "output_list = list(filter(lambda item : item != \" \",list_2))\n",
    "print(output_list)"
   ]
  },
  {
   "cell_type": "code",
   "execution_count": null,
   "id": "b3f336b2",
   "metadata": {},
   "outputs": [],
   "source": []
  },
  {
   "cell_type": "code",
   "execution_count": null,
   "id": "fefffc9e",
   "metadata": {},
   "outputs": [],
   "source": []
  },
  {
   "cell_type": "code",
   "execution_count": null,
   "id": "37949614",
   "metadata": {},
   "outputs": [],
   "source": [
    "# Problem 1:\n",
    "#     Given an integer array nums, \n",
    "#     return true if any value appears at least twice in the array, \n",
    "#     and return false if every element is distinct.\n",
    "\n",
    "# Reference link: https://leetcode.com/problems/contains-duplicate/description/"
   ]
  },
  {
   "cell_type": "code",
   "execution_count": 48,
   "id": "58a5830a",
   "metadata": {},
   "outputs": [
    {
     "name": "stdout",
     "output_type": "stream",
     "text": [
      "Duplicate elements not found in the list\n"
     ]
    }
   ],
   "source": [
    "nums = [1,2,3,4]\n",
    "counter = False\n",
    "\n",
    "for value in nums:\n",
    "    if nums.count(value) > 1:\n",
    "        counter = True\n",
    "        break\n",
    "        \n",
    "if counter == True:\n",
    "    print('Duplicate elements found in the list')\n",
    "else:\n",
    "    print('Duplicate elements not found in the list')"
   ]
  },
  {
   "cell_type": "code",
   "execution_count": null,
   "id": "da408920",
   "metadata": {},
   "outputs": [],
   "source": []
  },
  {
   "cell_type": "code",
   "execution_count": null,
   "id": "fc2c6bd5",
   "metadata": {},
   "outputs": [],
   "source": [
    "# Task1:\n",
    "#     Check if a list has only integer values. \n",
    "#     If yes then find the largest and the smallest value in the list. (max(list1), min(list1))\n",
    "#     otherwise return the two lists with only string and integer values.\n",
    "\n",
    "# Example 1:\n",
    "#     nums = [1,2,6,3,9,0]\n",
    "#     output: largest = 9, smallest = 0\n",
    "    \n",
    "# Example 2:\n",
    "#     nums = [1,'h','e', 5, 7, 'l','l', 9, 'o']\n",
    "#     nums_int = [1, 5, 7, 9]\n",
    "#     nums_str = ['h','e','l','l','o']"
   ]
  }
 ],
 "metadata": {
  "kernelspec": {
   "display_name": "Python 3 (ipykernel)",
   "language": "python",
   "name": "python3"
  },
  "language_info": {
   "codemirror_mode": {
    "name": "ipython",
    "version": 3
   },
   "file_extension": ".py",
   "mimetype": "text/x-python",
   "name": "python",
   "nbconvert_exporter": "python",
   "pygments_lexer": "ipython3",
   "version": "3.9.18"
  }
 },
 "nbformat": 4,
 "nbformat_minor": 5
}
