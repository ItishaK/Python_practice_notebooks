{
 "cells": [
  {
   "cell_type": "code",
   "execution_count": 2,
   "id": "9722ef22",
   "metadata": {},
   "outputs": [],
   "source": [
    "# Task 1:\n",
    "\n",
    "#     Check if a list has only integer values. \n",
    "#     If yes then find the largest and the smallest value in the list. (max(list1), min(list1))\n",
    "#     otherwise return the two lists with only string and integer values.\n",
    "\n",
    "# Example 1:\n",
    "#     nums = [1,2,6,3,9,0]\n",
    "#     output: largest = 9, smallest = 0\n",
    "    \n",
    "# Example 2:\n",
    "#     nums = [1,'h','e', 5, 7, 'l','l', 9, 'o']\n",
    "#     nums_int = [1, 5, 7, 9]\n",
    "#     nums_str = ['h','e','l','l','o']"
   ]
  },
  {
   "cell_type": "code",
   "execution_count": 3,
   "id": "6a200ca4",
   "metadata": {},
   "outputs": [],
   "source": [
    "# Task 2:\n",
    "\n",
    "# Given a list 'nums' of integer values which contains duplicates.\n",
    "# Return an output list: 'unique_list' that contains only first occurrence of each element in nums.\n",
    "#     Order of the values should remain same.\n",
    "    \n",
    "# Example:\n",
    "#     nums = [4,2,4,6,9,2,4,2,3,4]\n",
    "#     unique_list = [4,2,6,9,3]"
   ]
  },
  {
   "cell_type": "code",
   "execution_count": 4,
   "id": "70f81b8d",
   "metadata": {},
   "outputs": [],
   "source": [
    "# Task 3:\n",
    "    \n",
    "# Given a list 'nums' of integer values which may or may not contain duplicates.\n",
    "# Return an output list that contains all values which appear atleast twice in the list 'nums'.\n",
    "\n",
    "# Example:\n",
    "#     nums = [4,2,4,6,9,2,4,2,3,4]\n",
    "#     atleast_twice = [4,2]"
   ]
  },
  {
   "cell_type": "code",
   "execution_count": 5,
   "id": "948b03ce",
   "metadata": {},
   "outputs": [],
   "source": [
    "# Task 4:\n",
    "\n",
    "# Given a list 'nums' of integer values which may or may not contain duplicates.\n",
    "# Return an output list that contains all values from nums which appear exactly once in the list.\n",
    "\n",
    "# Example:\n",
    "#     nums = [4,2,4,6,9,2,4,2,3,4]\n",
    "#     exactly_once = [6,9,3]"
   ]
  },
  {
   "cell_type": "code",
   "execution_count": 6,
   "id": "02239eda",
   "metadata": {},
   "outputs": [],
   "source": [
    "# Task 5:\n",
    "\n",
    "# Given a list 'nums' of integer values which may or may not contain duplicates. \n",
    "# Write a code to find the frequency of all integer values and add them to a new list.\n",
    "# 1st Output list: freq_list should contain a list that contains the frequency of all values \n",
    "#     in list 'nums'.\n",
    "# 2nd output list: unique_list should contain unique elements of the list 'nums'\n",
    "# Note: Order of elements in both the output lists should be in the same order as the values\n",
    "#     in the list 'nums'\n",
    "\n",
    "# Example:\n",
    "#     nums = [1, 8, 4, 8, 1, 1, 7, 2]\n",
    "#     unique_list = [1,8,4,7,2]\n",
    "#     freq_list = [3,2,1,1,1]"
   ]
  },
  {
   "cell_type": "code",
   "execution_count": null,
   "id": "b7956f3e",
   "metadata": {},
   "outputs": [],
   "source": []
  }
 ],
 "metadata": {
  "kernelspec": {
   "display_name": "Python 3 (ipykernel)",
   "language": "python",
   "name": "python3"
  },
  "language_info": {
   "codemirror_mode": {
    "name": "ipython",
    "version": 3
   },
   "file_extension": ".py",
   "mimetype": "text/x-python",
   "name": "python",
   "nbconvert_exporter": "python",
   "pygments_lexer": "ipython3",
   "version": "3.9.18"
  }
 },
 "nbformat": 4,
 "nbformat_minor": 5
}
